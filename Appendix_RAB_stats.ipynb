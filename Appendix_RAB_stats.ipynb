{
 "cells": [
  {
   "cell_type": "code",
   "execution_count": 1,
   "id": "3ba1d435",
   "metadata": {},
   "outputs": [],
   "source": [
    "import pandas as pd\n",
    "import os\n",
    "import re\n",
    "import numpy as np\n",
    "from tqdm import tqdm\n",
    "\n",
    "from datetime import datetime \n",
    "\n",
    "import seaborn as sns\n",
    "from matplotlib import pyplot as plt\n",
    "\n",
    "import warnings\n",
    "warnings.filterwarnings(\"ignore\")"
   ]
  },
  {
   "cell_type": "code",
   "execution_count": 2,
   "id": "3be7bb2a",
   "metadata": {},
   "outputs": [],
   "source": [
    "root_directory = r'path'\n",
    "file_contents = []\n",
    "\n",
    "for root, dirs, files in os.walk(root_directory):\n",
    "    for file_name in files:\n",
    "        if file_name.endswith('.txt'):\n",
    "            file_path = os.path.join(root, file_name)\n",
    "            with open(file_path, 'r', encoding=\"ISO-8859-1\") as file:\n",
    "                file_content = file.read()\n",
    "                file_contents.append((file_path, file_content))  # Store both file path and content\n",
    "\n",
    "# Create a DataFrame with 'file_path' and 'text' columns\n",
    "df = pd.DataFrame(file_contents, columns=['file_path', 'text'])\n",
    "# df.to_csv('allfiles.csv', index=False)"
   ]
  },
  {
   "cell_type": "code",
   "execution_count": null,
   "id": "6e6e1ac9",
   "metadata": {
    "scrolled": false
   },
   "outputs": [],
   "source": [
    "df['text'] = df['text'].str.replace(r'\\b(transkgnnet|transkgnnede)\\b', lambda m: 'transkønnet' if m.group(1) == 'transkgnnet' else 'transkønnede')\n",
    "df"
   ]
  },
  {
   "cell_type": "code",
   "execution_count": 5,
   "id": "c21feab2",
   "metadata": {},
   "outputs": [
    {
     "name": "stderr",
     "output_type": "stream",
     "text": [
      "100%|██████████| 521/521 [00:00<00:00, 5103.97it/s]\n"
     ]
    }
   ],
   "source": [
    "\n",
    "# Define the function to extract sexual orientation\n",
    "def extract_sogie(text):\n",
    "    # Search for \"som asylmotiv\" in the text\n",
    "    pattern = re.compile(r'(som\\s+asylmotiv|flygtningenævnet\\s+udtaler|og\\s+resultat)')\n",
    "    asylmotiv_match =  re.search(pattern, text)\n",
    "    if asylmotiv_match:\n",
    "        # Check for each keyword individually\n",
    "        if re.search(r'trans(?:kø|se|ve).?\\w', text[asylmotiv_match.end():]):\n",
    "            return 'Transgender'\n",
    "        elif re.search('biseks.?\\w', text[asylmotiv_match.end():]):\n",
    "            return 'Bisexual'\n",
    "        elif re.search('homosek.?\\w', text[asylmotiv_match.end():]):\n",
    "            return 'Homosexual'\n",
    "\n",
    "    \n",
    "    return None\n",
    "\n",
    "\n",
    "\n",
    "# Apply the function to the 'text' column using .progress_apply()\n",
    "tqdm.pandas()  # Enable tqdm progress_apply\n",
    "df['sogie'] = df['text'].progress_apply(extract_sogie)\n",
    "\n"
   ]
  },
  {
   "cell_type": "code",
   "execution_count": 6,
   "id": "e7f4d888",
   "metadata": {},
   "outputs": [
    {
     "data": {
      "text/plain": [
       "(440, 3)"
      ]
     },
     "execution_count": 6,
     "metadata": {},
     "output_type": "execute_result"
    }
   ],
   "source": [
    "df = df.dropna(subset=['sogie'])\n",
    "df.shape"
   ]
  },
  {
   "cell_type": "code",
   "execution_count": 7,
   "id": "6375582f",
   "metadata": {},
   "outputs": [],
   "source": [
    "def extract_gender(df):\n",
    "    woman_count = 0\n",
    "    man_count = 0\n",
    "    gender_list = []\n",
    "    for text in df['text']:\n",
    "        woman_matches = re.findall(r'\\b(hun|hende|hendes)\\b', text, re.IGNORECASE)\n",
    "        man_matches = re.findall(r'\\b(han|ham|hans)\\b', text, re.IGNORECASE)\n",
    "        woman_count += len(woman_matches)\n",
    "        man_count += len(man_matches)\n",
    "        if woman_count > man_count:\n",
    "            gender = 'woman'\n",
    "        elif man_count > woman_count:\n",
    "            gender = 'man'\n",
    "        else:\n",
    "            gender = 'unknown'\n",
    "\n",
    "        gender_list.append(gender)\n",
    "        woman_count = 0\n",
    "        man_count = 0\n",
    "    df['gender'] = gender_list\n",
    "    return df\n",
    "\n",
    "df = extract_gender(df)"
   ]
  },
  {
   "cell_type": "code",
   "execution_count": 8,
   "id": "3cb673fe",
   "metadata": {},
   "outputs": [],
   "source": [
    "#The following does not contain any factural information but recognises patterns from the written files\n",
    "#CLASSIFYING OUTCOMES\n",
    "\n",
    "def extract_outcome(text):\n",
    "    try:\n",
    "        board = r'flygtningenævnet.{0,1}|nævnet.{0,1}'\n",
    "        ims = r'udlændingestyrelse.{0,3}|udlændingeservice'\n",
    "\n",
    "        reject1 = r'konklusion\\s+og\\s+(udrejsefrist|afgørelse\\s+om\\s+tvangsmæssigt\\s+udsendelse)'\n",
    "        reject2 = r'finder\\s+(flygtningenævnet|nævnet)\\s+ikke\\s+at\\s+ansøger.{0,3}\\s+har\\s+sandsynliggjort'\n",
    "        reject3 = r'stadfæste.{0,1}\\s+(derfor|s.ledes)\\s+(udlændingestyrelse.{0,2}|udlændingeservice.{0,2})\\s+(afgørelse|beslutning.{0,1})'\n",
    "        reject4= r'ansøger\\s+ikke\\s+opfylder\\s+betingelserne\\s+for\\s+opholdstilladelse|ansøger\\s+ikke\\s+opfylder\\s+betingelserne\\s+for\\s+at\\s+blive\\s+meddelt\\s+opholdstilladelse|ikke\\s+udrejse\\s+frivilligt\\s+kan\\s+hun\\s+udsendes\\s+tvangsmæssigt'\n",
    "        \n",
    "        grant1 = r'meddeler\\s+(derfor|på\\s+denne\\s+baggrund)\\s+ansøger\\s+opholdstilladelse'\n",
    "        grant2 = r'de\\s+n.{1,2}rmere\\s+vilkår\\s+for\\s+opholdstilladelse.{0,2}'\n",
    "        grant3 = r'meddeler\\s+opholdstilladelse\\s+i\\s+medfør\\s+af\\s+udlændingeloven'\n",
    "        grant4 = r'meddeler\\s+herefter\\s+an(sg|sø)ger.{0,2}\\s+opholdstilladelse'\n",
    "        grant5 = r'meddeler\\s+derfor\\s+opholdstilladelse'\n",
    "\n",
    "\n",
    "        send_back = r'hjemvise.{0,2}'\n",
    "        case = r'sag.{0,2}'\n",
    "\n",
    "        decision = 'unassigned'\n",
    "        \n",
    "        \n",
    "        b = re.search(board, text)\n",
    "        sb = re.search(send_back, text)\n",
    "        cas = re.search(case, text)\n",
    "        i = re.search(ims, text)\n",
    "\n",
    "        \n",
    "        r1  = re.search(reject1, text)\n",
    "        r2  = re.search(reject2, text)\n",
    "        r3  = re.search(reject3, text)\n",
    "        r4  = re.search(reject4, text)\n",
    "        \n",
    "        g1  = re.search(grant1, text)\n",
    "        g2  = re.search(grant2, text)\n",
    "        g3  = re.search(grant3, text)\n",
    "        g4  = re.search(grant4, text)\n",
    "        g5  = re.search(grant5, text)\n",
    "\n",
    "       \n",
    "        if (b and g1) or g2 or (b and (g3 or g4 or g5)):\n",
    "            decision = 'Rejection Overturned'\n",
    "        \n",
    "        \n",
    "        elif r1 or r2 or (b and r3) or r4:\n",
    "            decision = 'Rejection Upheld'\n",
    "\n",
    "\n",
    "        elif cas and sb and (b or i):\n",
    "            decision = 'Remanded'\n",
    "\n",
    "        else:\n",
    "            decision = 'Missing/Unlabelled'\n",
    "\n",
    "        return decision\n",
    "    \n",
    "    except Exception as e:\n",
    "        print(\"An error occurred:\", e)\n",
    "        return 'Error'\n"
   ]
  },
  {
   "cell_type": "code",
   "execution_count": 9,
   "id": "221b1090",
   "metadata": {},
   "outputs": [
    {
     "name": "stdout",
     "output_type": "stream",
     "text": [
      "2024-10-29 16:38:47 Extraction begun.\n"
     ]
    },
    {
     "name": "stderr",
     "output_type": "stream",
     "text": [
      "100%|██████████| 440/440 [00:00<00:00, 1410.30it/s]"
     ]
    },
    {
     "name": "stdout",
     "output_type": "stream",
     "text": [
      "2024-10-29 16:38:48 Extraction completed.\n"
     ]
    },
    {
     "name": "stderr",
     "output_type": "stream",
     "text": [
      "\n"
     ]
    }
   ],
   "source": [
    "print(datetime.now().strftime('%Y-%m-%d %H:%M:%S') + \" Extraction begun.\") #Printing start time\n",
    "\n",
    "tqdm.pandas() #Getting a progress bar. Use progress_apply instead of apply.\n",
    "df['outcome'] = df['text'].progress_apply(lambda x: extract_outcome(x))\n",
    "\n",
    "print(datetime.now().strftime('%Y-%m-%d %H:%M:%S') + \" Extraction completed.\") #Printing end time"
   ]
  },
  {
   "cell_type": "code",
   "execution_count": 10,
   "id": "1c71a7c3",
   "metadata": {},
   "outputs": [],
   "source": [
    "# Define date pattern\n",
    "date_pattern = r'(\\b\\d{1,2}\\s+\\d{1,2}\\s+\\d{4})'\n",
    "\n",
    "# Extract date from 'text' column\n",
    "df['date'] = df['text'].str.extract(date_pattern)\n",
    "# Convert extracted date strings to datetime objects\n",
    "df['date'] = pd.to_datetime(df['date'], format='%d %m %Y')\n",
    "df['decision_year'] = pd.to_datetime(df['date'])\n",
    "df['decision_year'] = df['decision_year'].dt.to_period('Y')"
   ]
  },
  {
   "cell_type": "code",
   "execution_count": 11,
   "id": "f060aa36",
   "metadata": {
    "scrolled": false
   },
   "outputs": [],
   "source": [
    "#Based on close readings\n",
    "#exclude\n",
    "delete=[33,113,289, 339, 386, 412, 439, 458]\n",
    "df=df.drop(delete)\n",
    "#homosexual\n",
    "df.loc[[117,163,187, 205], 'sogie']= 'Homosexual'\n",
    "#bisexual\n",
    "df.loc[[180,494], 'sogie']= 'Bisexual'\n"
   ]
  },
  {
   "cell_type": "code",
   "execution_count": 13,
   "id": "ef174e0c",
   "metadata": {
    "scrolled": true
   },
   "outputs": [
    {
     "data": {
      "text/plain": [
       "Homosexual     339\n",
       "Bisexual        83\n",
       "Transgender     10\n",
       "Name: sogie, dtype: int64"
      ]
     },
     "execution_count": 13,
     "metadata": {},
     "output_type": "execute_result"
    }
   ],
   "source": [
    "df.sogie.value_counts(normalize=False, sort=True, ascending=False)"
   ]
  },
  {
   "cell_type": "code",
   "execution_count": 15,
   "id": "3dbec53f",
   "metadata": {
    "scrolled": true
   },
   "outputs": [
    {
     "data": {
      "text/plain": [
       "Rejection Upheld        319\n",
       "Rejection Overturned    102\n",
       "Remanded                  7\n",
       "Missing/Unlabelled        4\n",
       "Name: outcome, dtype: int64"
      ]
     },
     "execution_count": 15,
     "metadata": {},
     "output_type": "execute_result"
    }
   ],
   "source": [
    "df.outcome.value_counts(normalize=False, sort=True, ascending=False)"
   ]
  },
  {
   "cell_type": "code",
   "execution_count": 16,
   "id": "0248b40b",
   "metadata": {},
   "outputs": [
    {
     "data": {
      "text/plain": [
       "(428, 7)"
      ]
     },
     "execution_count": 16,
     "metadata": {},
     "output_type": "execute_result"
    }
   ],
   "source": [
    "df = df[df['outcome']!='Missing/Unlabelled']\n",
    "df.shape"
   ]
  },
  {
   "cell_type": "code",
   "execution_count": 19,
   "id": "7f022c45",
   "metadata": {},
   "outputs": [],
   "source": [
    "def extract_origin(df):\n",
    "    origin_list = []\n",
    "    for text in df['text']:\n",
    "        origin_matches = re.findall(r\"(?:den|de)\\s+(\\w+)\\s+statsborger\", text, re.IGNORECASE)\n",
    "        if origin_matches:\n",
    "            origin = origin_matches[0]\n",
    "        else:\n",
    "            origin = 'unknown'\n",
    "        origin_list.append(origin)\n",
    "    df['origin'] = origin_list\n",
    "    return df\n"
   ]
  },
  {
   "cell_type": "code",
   "execution_count": 20,
   "id": "78ac5118",
   "metadata": {
    "scrolled": false
   },
   "outputs": [
    {
     "data": {
      "text/plain": [
       "array(['russiske', 'usbekiske', 'ukrainske', 'aserbajdsjanske',\n",
       "       'armenske', 'unknown', 'georgiske', 'albanske', 'kosovoske',\n",
       "       'tyrkiske', 'irakiske', 'iranske', 'tunesiske', 'senegalesiske',\n",
       "       'gambiske', 'nigerianske', 'camerounske', 'ugandiske', 'kenyanske',\n",
       "       'afghanske', 'pakistanske', 'indiske', 'bangladeshiske',\n",
       "       'nepalesiske', 'kinesiske', 'guatemalanske', 'mauretanske',\n",
       "       'ghanesiske', 'burkinske', 'zambiske', 'congolesiske', 'algeriske',\n",
       "       'marokkanske', 'sierraleonske', 'rwandiske', 'hviderussiske',\n",
       "       'egyptiske', 'cubanske', 'maliske', 'tanzanianske', 'kasakhiske',\n",
       "       'eritreiske', 'etiopiske', 'bosniske', 'serbiske', 'libyske',\n",
       "       'sydkoreanske', 'angolanske', 'libanesiske', 'gambianske',\n",
       "       'chilenske', 'malaysiske', 'brasilianske', 'jordanske',\n",
       "       'panamanske', 'colombianske', 'indonesiske', 'zimbabweske',\n",
       "       'guineanske', 'namibiske', 'nordmakedonske', 'tadsjikiske'],\n",
       "      dtype=object)"
      ]
     },
     "execution_count": 20,
     "metadata": {},
     "output_type": "execute_result"
    }
   ],
   "source": [
    "df = extract_origin(df)\n",
    "df.origin.unique()"
   ]
  },
  {
   "cell_type": "code",
   "execution_count": 21,
   "id": "843db443",
   "metadata": {},
   "outputs": [
    {
     "name": "stdout",
     "output_type": "stream",
     "text": [
      "['afghanske', 'albanske', 'algeriske', 'angolanske', 'armenske', 'aserbajdsjanske', 'bangladeshiske', 'bosniske', 'brasilianske', 'burkinske', 'camerounske', 'chilenske', 'colombianske', 'congolesiske', 'cubanske', 'egyptiske', 'eritreiske', 'etiopiske', 'gambianske', 'gambiske', 'georgiske', 'ghanesiske', 'guatemalanske', 'guineanske', 'hviderussiske', 'indiske', 'indonesiske', 'irakiske', 'iranske', 'jordanske', 'kasakhiske', 'kenyanske', 'kinesiske', 'kosovoske', 'libanesiske', 'libyske', 'malaysiske', 'maliske', 'marokkanske', 'mauretanske', 'namibiske', 'nepalesiske', 'nigerianske', 'nordmakedonske', 'pakistanske', 'panamanske', 'russiske', 'rwandiske', 'senegalesiske', 'serbiske', 'sierraleonske', 'sydkoreanske', 'tadsjikiske', 'tanzanianske', 'tunesiske', 'tyrkiske', 'ugandiske', 'ukrainske', 'unknown', 'usbekiske', 'zambiske', 'zimbabweske']\n"
     ]
    }
   ],
   "source": [
    "country = list(df['origin'].unique())\n",
    "print(sorted(country))"
   ]
  },
  {
   "cell_type": "code",
   "execution_count": 22,
   "id": "6166f336",
   "metadata": {},
   "outputs": [],
   "source": [
    "df = df[df.origin != 'har']\n",
    "df = df[df.origin != 'ikke']\n",
    "df = df[df.origin != 'dansk']\n",
    "df = df[df.origin != 'angivelige']\n",
    "df = df[df.origin != 'transke']\n",
    "df = df[df.origin != 'unknown']\n",
    "\n",
    "df[\"origin\"]= df[\"origin\"].replace(['afghanske', 'albanske', 'algeriske', 'angolanske', 'armenske', 'aserbajdsjanske', \n",
    "                                    'bangladeshiske', 'bosniske', 'brasilianske', 'burkinske', 'camerounske', 'chilenske',\n",
    "                                    'colombianske', 'congolesiske', 'cubanske', 'egyptiske', 'eritreiske', 'etiopiske', \n",
    "                                    'gambianske', 'gambiske', 'georgiske', 'ghanesiske', 'guatemalanske', 'guineanske', \n",
    "                                    'hviderussiske', 'indiske', 'indonesiske', 'irakiske', 'iranske', 'jordanske', \n",
    "                                    'kasakhiske', 'kenyanske', 'kinesiske', 'kosovoske', 'libanesiske', 'libyske', \n",
    "                                    'malaysiske', 'maliske', 'marokkanske', 'mauretanske', 'namibiske', 'nepalesiske', \n",
    "                                    'nigerianske', 'nordmakedonske', 'pakistanske', 'panamanske', 'russiske', 'rwandiske', \n",
    "                                    'senegalesiske', 'serbiske', 'sierraleonske', 'sydkoreanske', 'tadsjikiske', \n",
    "                                    'tanzanianske', 'tunesiske', 'tyrkiske', 'ugandiske', 'ukrainske', 'usbekiske', \n",
    "                                    'zambiske', 'zimbabweske'], \n",
    "                                   [ 'Afghanistan', 'Albania', 'Algeria', 'Angola', 'Armenia', 'Azerbaijan', \n",
    "                                    'Bangladesh', 'Bosnia', 'Brazil', 'Burkina Faso', 'Cameroon', 'Chile', 'Colombia',\n",
    "                                    'Congo', 'Cuba', 'Egypt', 'Eritrea', 'Ethiopia', 'Gambia', 'Gambia', 'Georgia', \n",
    "                                    'Ghana', 'Guatemala', 'Guinea', 'Belarus', 'India', 'Indonesia', 'Iraq', 'Iran', \n",
    "                                    'Jordan', 'Kazakhstan', 'Kenya', 'China', 'Kosovo', 'Lebanon', 'Libya', 'Malaysia',\n",
    "                                    'Mali', 'Morocco', 'Mauritania', 'Namibia', 'Nepal', 'Nigeria', 'North Macedonia', \n",
    "                                    'Pakistan', 'Panama', 'Russia', 'Rwanda', 'Senegal', 'Serbia', 'Sierra Leone', \n",
    "                                    'South Korea', 'Tajikistan', 'Tanzania','Tunisia', 'Turkey', 'Uganda', 'Ukraine', \n",
    "                                    'Uzbekistan', 'Zambia', 'Zimbabwe'\n",
    "])\n",
    "\n",
    "\n",
    "\n",
    "\n",
    "\n",
    "value_counts = df.origin.value_counts()\n",
    "\n"
   ]
  },
  {
   "cell_type": "code",
   "execution_count": 23,
   "id": "10147729",
   "metadata": {
    "scrolled": true
   },
   "outputs": [
    {
     "data": {
      "text/plain": [
       "Iran               75\n",
       "Uganda             65\n",
       "Nigeria            39\n",
       "Afghanistan        30\n",
       "Iraq               26\n",
       "Ghana              12\n",
       "Russia             11\n",
       "Cameroon           11\n",
       "Gambia             10\n",
       "Tunisia             9\n",
       "Mali                7\n",
       "Bangladesh          7\n",
       "Algeria             7\n",
       "Morocco             6\n",
       "Congo               6\n",
       "Serbia              5\n",
       "Senegal             4\n",
       "Georgia             4\n",
       "Ukraine             4\n",
       "Turkey              4\n",
       "Armenia             4\n",
       "Egypt               4\n",
       "Zambia              3\n",
       "Jordan              3\n",
       "Bosnia              3\n",
       "Uzbekistan          3\n",
       "India               3\n",
       "Kosovo              3\n",
       "Albania             3\n",
       "China               3\n",
       "Pakistan            3\n",
       "Nepal               2\n",
       "Ethiopia            2\n",
       "Tanzania            2\n",
       "Malaysia            2\n",
       "Belarus             2\n",
       "Guatemala           2\n",
       "Mauritania          2\n",
       "Guinea              1\n",
       "Indonesia           1\n",
       "Zimbabwe            1\n",
       "Colombia            1\n",
       "Panama              1\n",
       "Chile               1\n",
       "North Macedonia     1\n",
       "Brazil              1\n",
       "Namibia             1\n",
       "Cuba                1\n",
       "Lebanon             1\n",
       "Angola              1\n",
       "South Korea         1\n",
       "Libya               1\n",
       "Eritrea             1\n",
       "Kazakhstan          1\n",
       "Rwanda              1\n",
       "Sierra Leone        1\n",
       "Burkina Faso        1\n",
       "Azerbaijan          1\n",
       "Kenya               1\n",
       "Tajikistan          1\n",
       "Name: origin, dtype: int64"
      ]
     },
     "execution_count": 23,
     "metadata": {},
     "output_type": "execute_result"
    }
   ],
   "source": [
    "df.origin.value_counts()"
   ]
  },
  {
   "cell_type": "code",
   "execution_count": 24,
   "id": "32d36cb1",
   "metadata": {},
   "outputs": [
    {
     "data": {
      "text/plain": [
       "62"
      ]
     },
     "execution_count": 24,
     "metadata": {},
     "output_type": "execute_result"
    }
   ],
   "source": [
    "len(country)"
   ]
  },
  {
   "cell_type": "code",
   "execution_count": 25,
   "id": "dc1f803c",
   "metadata": {},
   "outputs": [
    {
     "data": {
      "text/plain": [
       "62"
      ]
     },
     "execution_count": 25,
     "metadata": {},
     "output_type": "execute_result"
    }
   ],
   "source": [
    "countries = [\n",
    "    'Afghanistan', 'Albania', 'Algeria', 'Angola', 'Armenia', 'Azerbaijan', 'Bangladesh', 'Bosnia', \n",
    "    'Brazil', 'Burkina Faso', 'Cameroon', 'Chile', 'Colombia', 'Congo', 'Cuba', 'Egypt', \n",
    "    'Eritrea', 'Ethiopia', 'Gambia', 'Gambia', 'Georgia', 'Ghana', 'Guatemala', 'Guinea', \n",
    "    'Belarus', 'India', 'Indonesia', 'Iraq', 'Iran', 'Jordan', 'Kazakhstan', 'Kenya', \n",
    "    'China', 'Kosovo', 'Lebanon', 'Libya', 'Malaysia', 'Mali', 'Morocco', 'Mauritania', \n",
    "    'Namibia', 'Nepal', 'Nigeria', 'North Macedonia', 'Pakistan', 'Panama', 'Russia', \n",
    "    'Rwanda', 'Senegal', 'Serbia', 'Sierra Leone', 'South Korea', 'Tajikistan', 'Tanzania', \n",
    "    'Tunisia', 'Turkey', 'Uganda', 'Ukraine', 'Unknown', 'Uzbekistan', 'Zambia', 'Zimbabwe'\n",
    "]\n",
    "\n",
    "len(countries)"
   ]
  },
  {
   "cell_type": "code",
   "execution_count": 26,
   "id": "c9290222",
   "metadata": {},
   "outputs": [
    {
     "data": {
      "text/html": [
       "<div>\n",
       "<style scoped>\n",
       "    .dataframe tbody tr th:only-of-type {\n",
       "        vertical-align: middle;\n",
       "    }\n",
       "\n",
       "    .dataframe tbody tr th {\n",
       "        vertical-align: top;\n",
       "    }\n",
       "\n",
       "    .dataframe thead th {\n",
       "        text-align: right;\n",
       "    }\n",
       "</style>\n",
       "<table border=\"1\" class=\"dataframe\">\n",
       "  <thead>\n",
       "    <tr style=\"text-align: right;\">\n",
       "      <th>outcome</th>\n",
       "      <th>sogie</th>\n",
       "      <th>Rejection Overturned</th>\n",
       "      <th>Rejection Upheld</th>\n",
       "      <th>Remanded</th>\n",
       "      <th>total_count</th>\n",
       "      <th>Rejection Overturned_percentage</th>\n",
       "      <th>Rejection Upheld_percentage</th>\n",
       "      <th>Remanded_percentage</th>\n",
       "    </tr>\n",
       "  </thead>\n",
       "  <tbody>\n",
       "    <tr>\n",
       "      <th>0</th>\n",
       "      <td>Bisexual</td>\n",
       "      <td>21</td>\n",
       "      <td>59</td>\n",
       "      <td>0</td>\n",
       "      <td>80</td>\n",
       "      <td>26.250000</td>\n",
       "      <td>73.750000</td>\n",
       "      <td>0.000000</td>\n",
       "    </tr>\n",
       "    <tr>\n",
       "      <th>1</th>\n",
       "      <td>Homosexual</td>\n",
       "      <td>73</td>\n",
       "      <td>243</td>\n",
       "      <td>7</td>\n",
       "      <td>323</td>\n",
       "      <td>22.600619</td>\n",
       "      <td>75.232198</td>\n",
       "      <td>2.167183</td>\n",
       "    </tr>\n",
       "    <tr>\n",
       "      <th>2</th>\n",
       "      <td>Transgender</td>\n",
       "      <td>4</td>\n",
       "      <td>6</td>\n",
       "      <td>0</td>\n",
       "      <td>10</td>\n",
       "      <td>40.000000</td>\n",
       "      <td>60.000000</td>\n",
       "      <td>0.000000</td>\n",
       "    </tr>\n",
       "  </tbody>\n",
       "</table>\n",
       "</div>"
      ],
      "text/plain": [
       "outcome        sogie  Rejection Overturned  Rejection Upheld  Remanded  \\\n",
       "0           Bisexual                    21                59         0   \n",
       "1         Homosexual                    73               243         7   \n",
       "2        Transgender                     4                 6         0   \n",
       "\n",
       "outcome  total_count  Rejection Overturned_percentage  \\\n",
       "0                 80                        26.250000   \n",
       "1                323                        22.600619   \n",
       "2                 10                        40.000000   \n",
       "\n",
       "outcome  Rejection Upheld_percentage  Remanded_percentage  \n",
       "0                          73.750000             0.000000  \n",
       "1                          75.232198             2.167183  \n",
       "2                          60.000000             0.000000  "
      ]
     },
     "execution_count": 26,
     "metadata": {},
     "output_type": "execute_result"
    }
   ],
   "source": [
    "# Create a pivot table to count occurrences of each outcome per sogie sub-group\n",
    "pivot_table = pd.pivot_table(df, index='sogie', columns='outcome', aggfunc='size', fill_value=0)\n",
    "\n",
    "pivot_table = pivot_table.reset_index()\n",
    "\n",
    "# Calculate the total count of each sogie sub-group\n",
    "pivot_table['total_count'] = pivot_table.sum(axis=1)\n",
    "\n",
    "# Calculate the percentage of each outcome per sogie sub-group\n",
    "for outcome in pivot_table.columns[1:-1]: \n",
    "    pivot_table[outcome + '_percentage'] = pivot_table[outcome] / pivot_table['total_count'] * 100\n",
    "\n",
    "pivot_table"
   ]
  },
  {
   "cell_type": "code",
   "execution_count": 29,
   "id": "a008fba1",
   "metadata": {
    "scrolled": true
   },
   "outputs": [
    {
     "data": {
      "text/plain": [
       "Russia         1\n",
       "Guatemala      1\n",
       "Bosnia         1\n",
       "South Korea    1\n",
       "Tanzania       1\n",
       "Chile          1\n",
       "Malaysia       1\n",
       "Bangladesh     1\n",
       "Indonesia      1\n",
       "Jordan         1\n",
       "Name: origin, dtype: int64"
      ]
     },
     "execution_count": 29,
     "metadata": {},
     "output_type": "execute_result"
    }
   ],
   "source": [
    "trans_rows.origin.value_counts()"
   ]
  },
  {
   "cell_type": "code",
   "execution_count": 31,
   "id": "7dd45c2a",
   "metadata": {},
   "outputs": [
    {
     "data": {
      "text/html": [
       "<div>\n",
       "<style scoped>\n",
       "    .dataframe tbody tr th:only-of-type {\n",
       "        vertical-align: middle;\n",
       "    }\n",
       "\n",
       "    .dataframe tbody tr th {\n",
       "        vertical-align: top;\n",
       "    }\n",
       "\n",
       "    .dataframe thead th {\n",
       "        text-align: right;\n",
       "    }\n",
       "</style>\n",
       "<table border=\"1\" class=\"dataframe\">\n",
       "  <thead>\n",
       "    <tr style=\"text-align: right;\">\n",
       "      <th></th>\n",
       "      <th>sogie</th>\n",
       "      <th>gender</th>\n",
       "      <th>outcome</th>\n",
       "      <th>count</th>\n",
       "      <th>percentage</th>\n",
       "    </tr>\n",
       "  </thead>\n",
       "  <tbody>\n",
       "    <tr>\n",
       "      <th>0</th>\n",
       "      <td>Bisexual</td>\n",
       "      <td>man</td>\n",
       "      <td>Rejection Overturned</td>\n",
       "      <td>18</td>\n",
       "      <td>27.692308</td>\n",
       "    </tr>\n",
       "    <tr>\n",
       "      <th>1</th>\n",
       "      <td>Bisexual</td>\n",
       "      <td>man</td>\n",
       "      <td>Rejection Upheld</td>\n",
       "      <td>47</td>\n",
       "      <td>72.307692</td>\n",
       "    </tr>\n",
       "    <tr>\n",
       "      <th>2</th>\n",
       "      <td>Bisexual</td>\n",
       "      <td>woman</td>\n",
       "      <td>Rejection Overturned</td>\n",
       "      <td>3</td>\n",
       "      <td>20.000000</td>\n",
       "    </tr>\n",
       "    <tr>\n",
       "      <th>3</th>\n",
       "      <td>Bisexual</td>\n",
       "      <td>woman</td>\n",
       "      <td>Rejection Upheld</td>\n",
       "      <td>12</td>\n",
       "      <td>80.000000</td>\n",
       "    </tr>\n",
       "    <tr>\n",
       "      <th>4</th>\n",
       "      <td>Homosexual</td>\n",
       "      <td>man</td>\n",
       "      <td>Rejection Overturned</td>\n",
       "      <td>62</td>\n",
       "      <td>22.627737</td>\n",
       "    </tr>\n",
       "    <tr>\n",
       "      <th>5</th>\n",
       "      <td>Homosexual</td>\n",
       "      <td>man</td>\n",
       "      <td>Rejection Upheld</td>\n",
       "      <td>205</td>\n",
       "      <td>74.817518</td>\n",
       "    </tr>\n",
       "    <tr>\n",
       "      <th>6</th>\n",
       "      <td>Homosexual</td>\n",
       "      <td>man</td>\n",
       "      <td>Remanded</td>\n",
       "      <td>7</td>\n",
       "      <td>2.554745</td>\n",
       "    </tr>\n",
       "    <tr>\n",
       "      <th>7</th>\n",
       "      <td>Homosexual</td>\n",
       "      <td>woman</td>\n",
       "      <td>Rejection Overturned</td>\n",
       "      <td>11</td>\n",
       "      <td>22.448980</td>\n",
       "    </tr>\n",
       "    <tr>\n",
       "      <th>8</th>\n",
       "      <td>Homosexual</td>\n",
       "      <td>woman</td>\n",
       "      <td>Rejection Upheld</td>\n",
       "      <td>38</td>\n",
       "      <td>77.551020</td>\n",
       "    </tr>\n",
       "    <tr>\n",
       "      <th>9</th>\n",
       "      <td>Transgender</td>\n",
       "      <td>man</td>\n",
       "      <td>Rejection Overturned</td>\n",
       "      <td>3</td>\n",
       "      <td>42.857143</td>\n",
       "    </tr>\n",
       "    <tr>\n",
       "      <th>10</th>\n",
       "      <td>Transgender</td>\n",
       "      <td>man</td>\n",
       "      <td>Rejection Upheld</td>\n",
       "      <td>4</td>\n",
       "      <td>57.142857</td>\n",
       "    </tr>\n",
       "    <tr>\n",
       "      <th>11</th>\n",
       "      <td>Transgender</td>\n",
       "      <td>woman</td>\n",
       "      <td>Rejection Overturned</td>\n",
       "      <td>1</td>\n",
       "      <td>33.333333</td>\n",
       "    </tr>\n",
       "    <tr>\n",
       "      <th>12</th>\n",
       "      <td>Transgender</td>\n",
       "      <td>woman</td>\n",
       "      <td>Rejection Upheld</td>\n",
       "      <td>2</td>\n",
       "      <td>66.666667</td>\n",
       "    </tr>\n",
       "  </tbody>\n",
       "</table>\n",
       "</div>"
      ],
      "text/plain": [
       "          sogie gender               outcome  count  percentage\n",
       "0      Bisexual    man  Rejection Overturned     18   27.692308\n",
       "1      Bisexual    man      Rejection Upheld     47   72.307692\n",
       "2      Bisexual  woman  Rejection Overturned      3   20.000000\n",
       "3      Bisexual  woman      Rejection Upheld     12   80.000000\n",
       "4    Homosexual    man  Rejection Overturned     62   22.627737\n",
       "5    Homosexual    man      Rejection Upheld    205   74.817518\n",
       "6    Homosexual    man              Remanded      7    2.554745\n",
       "7    Homosexual  woman  Rejection Overturned     11   22.448980\n",
       "8    Homosexual  woman      Rejection Upheld     38   77.551020\n",
       "9   Transgender    man  Rejection Overturned      3   42.857143\n",
       "10  Transgender    man      Rejection Upheld      4   57.142857\n",
       "11  Transgender  woman  Rejection Overturned      1   33.333333\n",
       "12  Transgender  woman      Rejection Upheld      2   66.666667"
      ]
     },
     "execution_count": 31,
     "metadata": {},
     "output_type": "execute_result"
    }
   ],
   "source": [
    "count_per_category = df.groupby(['sogie', 'gender', 'outcome']).size().reset_index(name='count')\n",
    "\n",
    "# Calculate percentage of each outcome per category\n",
    "percentage_per_category = df.groupby(['sogie', 'gender', 'outcome']).size() / df.groupby(['sogie', 'gender']).size() * 100\n",
    "percentage_per_category = percentage_per_category.reset_index(name='percentage')\n",
    "\n",
    "# Merge count and percentage DataFrames\n",
    "result = pd.merge(count_per_category, percentage_per_category, on=['sogie', 'gender', 'outcome'])\n",
    "\n",
    "result"
   ]
  },
  {
   "cell_type": "markdown",
   "id": "317ac0da",
   "metadata": {},
   "source": [
    "# Visualisations"
   ]
  },
  {
   "cell_type": "code",
   "execution_count": 33,
   "id": "ca39be22",
   "metadata": {
    "scrolled": false
   },
   "outputs": [
    {
     "data": {
      "text/plain": [
       "Text(0, 0.5, 'Number of Claims')"
      ]
     },
     "execution_count": 33,
     "metadata": {},
     "output_type": "execute_result"
    },
    {
     "data": {
      "image/png": "[encoded data removed]",
      "text/plain": [
       "<Figure size 800x500 with 1 Axes>"
      ]
     },
     "metadata": {},
     "output_type": "display_data"
    }
   ],
   "source": [
    "#outcome - sogie sub-group\n",
    "out_type = df[['text', 'sogie', 'outcome']]\n",
    "out_type = out_type.groupby(['outcome', 'sogie']).count().reset_index()\n",
    "\n",
    "ot = out_type.pivot(columns='sogie', index='outcome', values='text')\n",
    "ax = ot.plot.bar(figsize=(8,5))\n",
    "ax.set_axisbelow(True)\n",
    "ax.yaxis.grid(color='lightgrey', linestyle='dashed')\n",
    "ax.xaxis.grid(color='lightgrey', linestyle='dashed')\n",
    "ax.set_facecolor('#F2F2F2')\n",
    "ax.set_title('Type of Claim, 2002 - Present')\n",
    "ax.legend(loc='upper right')\n",
    "plt.xticks(rotation = 0)\n",
    "ax.set_xlabel('LGBT+ claim', fontsize = 10)\n",
    "ax.set_ylabel('Number of Claims', fontsize= 10)"
   ]
  },
  {
   "cell_type": "code",
   "execution_count": null,
   "id": "d176cc66",
   "metadata": {},
   "outputs": [],
   "source": [
    "#Combining gender and sogie\n",
    "df.loc[(df['sogie'] == 'homosexual') & (df['gender'] == 'man'), 'cat'] = 'gay_man'\n",
    "df.loc[(df['sogie'] == 'homosexual') & (df['gender'] == 'woman'), 'cat'] = 'lesbian'\n",
    "\n",
    "df.loc[(df['sogie'] == 'bisexual') & (df['gender'] == 'man'), 'cat'] = 'bi_man'\n",
    "df.loc[(df['sogie'] == 'bisexual') & (df['gender'] == 'woman'), 'cat'] = 'bi_woman'\n",
    "\n",
    "df.loc[(df['sogie'] == 'transgender') & (df['gender'] == 'man'), 'cat'] = 'trans'\n",
    "df.loc[(df['sogie'] == 'transgender') & (df['gender'] == 'woman'), 'cat'] = 'trans'"
   ]
  },
  {
   "cell_type": "code",
   "execution_count": 40,
   "id": "10df2fa9",
   "metadata": {},
   "outputs": [
    {
     "data": {
      "text/plain": [
       "Text(0, 0.5, 'Number of Claims')"
      ]
     },
     "execution_count": 40,
     "metadata": {},
     "output_type": "execute_result"
    },
    {
     "data": {
      "image/png": "[encoded data removed]",
      "text/plain": [
       "<Figure size 300x400 with 1 Axes>"
      ]
     },
     "metadata": {},
     "output_type": "display_data"
    }
   ],
   "source": [
    "#Gender, sogie sub-group\n",
    "gender_type = df[['text', 'sogie', 'gender']]\n",
    "gender_type = gender_type.groupby(['gender', 'sogie']).count().reset_index()\n",
    "\n",
    "gt = gender_type.pivot(columns='sogie', index='gender', values='text')\n",
    "ax = gt.plot.bar(figsize=(3,4))\n",
    "ax.set_axisbelow(True)\n",
    "ax.yaxis.grid(color='lightgrey', linestyle='dashed')\n",
    "ax.xaxis.grid(color='lightgrey', linestyle='dashed')\n",
    "ax.set_facecolor('#F2F2F2')\n",
    "ax.set_title('Type of Claim, 2002 - 2021', fontsize = 10)\n",
    "ax.legend(loc='upper right')\n",
    "plt.xticks(rotation = 0)\n",
    "ax.set_xlabel('LGBT+ claim', fontsize = 8)\n",
    "ax.set_ylabel('Number of Claims', fontsize= 8)\n"
   ]
  },
  {
   "cell_type": "code",
   "execution_count": 42,
   "id": "a5938ead",
   "metadata": {},
   "outputs": [
    {
     "data": {
      "image/png": "[encoded data removed]",
      "text/plain": [
       "<Figure size 700x600 with 1 Axes>"
      ]
     },
     "metadata": {},
     "output_type": "display_data"
    }
   ],
   "source": [
    "df_cat_year_outcome = df.groupby(['decision_year', 'sogie', 'outcome']).size().reset_index(name='count')\n",
    "\n",
    "# Pivot the data to create a table\n",
    "pivot_df = df_cat_year_outcome.pivot_table(index='decision_year', columns='sogie', values='count', aggfunc='sum', fill_value=0)\n",
    "\n",
    "# Plot the transposed data as a stacked bar chart\n",
    "ax = pivot_df.plot(kind='bar', stacked=True, figsize=(7, 6), colormap='tab10')\n",
    "ax.set_axisbelow(True)\n",
    "ax.yaxis.grid(color='lightgrey', linestyle='dashed')\n",
    "ax.xaxis.grid(color='lightgrey', linestyle='dashed')\n",
    "ax.set_facecolor('#F2F2F2')\n",
    "ax.set_title('LGBT+ Claims over Time')\n",
    "ax.legend(title='Claim Type', loc='upper left')\n",
    "plt.xticks(rotation=70)\n",
    "ax.set_xlabel('Decision Year', fontsize=10)\n",
    "ax.set_ylabel('Number of Claims', fontsize=10)\n",
    "\n",
    "\n",
    "plt.savefig('Types_type.png', dpi =600)\n",
    "plt.show()"
   ]
  },
  {
   "cell_type": "markdown",
   "id": "dcef3e9b",
   "metadata": {},
   "source": [
    "## Comparing sogie claims to the general grant rate"
   ]
  },
  {
   "cell_type": "code",
   "execution_count": 45,
   "id": "c6f46544",
   "metadata": {},
   "outputs": [],
   "source": [
    "# Load df2 from the specified path\n",
    "df2_path = r\"path\"\n",
    "df2 = pd.read_pickle(df2_path)\n",
    "df2 = df2.rename(columns={'year': 'decision_year'})\n",
    "\n",
    "# Calculate the total number of outcomes per 'decision_year' in df2\n",
    "total_counts_df2 = df2.groupby('decision_year')['outcome'].count()\n",
    "\n",
    "# Calculate the count of 'rejection overturned' outcomes per 'decision_year' in df2\n",
    "rejection_overturned_counts_df2 = df2[df2['outcome'] == 'Rejection Overturned'].groupby('decision_year')['outcome'].count()\n",
    "\n",
    "# Calculate percentage of 'Rejection Overturned' for df2\n",
    "overall_percentage_df2 = (rejection_overturned_counts_df2 / total_counts_df2) * 100\n",
    "\n",
    "# Convert to DataFrame for easier manipulation\n",
    "overall_percentage_df2_df = overall_percentage_df2.reset_index(name='overall_percentage')"
   ]
  },
  {
   "cell_type": "code",
   "execution_count": 46,
   "id": "4de53172",
   "metadata": {},
   "outputs": [
    {
     "data": {
      "text/plain": [
       "(15057, 22)"
      ]
     },
     "execution_count": 46,
     "metadata": {},
     "output_type": "execute_result"
    }
   ],
   "source": [
    "df2.shape"
   ]
  },
  {
   "cell_type": "code",
   "execution_count": 80,
   "id": "0c44be32",
   "metadata": {},
   "outputs": [],
   "source": [
    "# Calculate the total number of outcomes per 'decision_year' and 'sogie' in df\n",
    "total_counts_df = df.groupby(['decision_year', 'sogie'])['outcome'].count().reset_index(name='total_count')\n",
    "\n",
    "# Calculate the count of 'rejection overturned' outcomes per 'decision_year' and 'sogie' in df\n",
    "rejection_overturned_counts_df = df[df['outcome'] == 'Rejection Overturned'].groupby(['decision_year', 'sogie'])['outcome'].count().reset_index(name='rejection_overturned_count')\n",
    "\n",
    "# Merge the counts into a single DataFrame\n",
    "merged_df = pd.merge(total_counts_df, rejection_overturned_counts_df, on=['decision_year', 'sogie'], how='left')#.fillna(0)\n",
    "\n",
    "# Calculate percentage of 'Rejection Overturned' for each 'sogie' in df\n",
    "merged_df['percentage'] = (merged_df['rejection_overturned_count'] / merged_df['total_count']) * 100\n",
    "\n",
    "# Pivot the DataFrame to get a separate column for each 'sogie' value\n",
    "df_percentage_by_sogie = merged_df.pivot(index='decision_year', columns='sogie', values='percentage').reset_index()"
   ]
  },
  {
   "cell_type": "code",
   "execution_count": 84,
   "id": "65484b00",
   "metadata": {},
   "outputs": [
    {
     "data": {
      "text/html": [
       "<div>\n",
       "<style scoped>\n",
       "    .dataframe tbody tr th:only-of-type {\n",
       "        vertical-align: middle;\n",
       "    }\n",
       "\n",
       "    .dataframe tbody tr th {\n",
       "        vertical-align: top;\n",
       "    }\n",
       "\n",
       "    .dataframe thead th {\n",
       "        text-align: right;\n",
       "    }\n",
       "</style>\n",
       "<table border=\"1\" class=\"dataframe\">\n",
       "  <thead>\n",
       "    <tr style=\"text-align: right;\">\n",
       "      <th></th>\n",
       "      <th>decision_year</th>\n",
       "      <th>Bisexual</th>\n",
       "      <th>Homosexual</th>\n",
       "      <th>Transgender</th>\n",
       "      <th>overall_percentage</th>\n",
       "    </tr>\n",
       "  </thead>\n",
       "  <tbody>\n",
       "    <tr>\n",
       "      <th>0</th>\n",
       "      <td>2002</td>\n",
       "      <td>NaN</td>\n",
       "      <td>25.000000</td>\n",
       "      <td>NaN</td>\n",
       "      <td>12.616822</td>\n",
       "    </tr>\n",
       "    <tr>\n",
       "      <th>1</th>\n",
       "      <td>2003</td>\n",
       "      <td>NaN</td>\n",
       "      <td>50.000000</td>\n",
       "      <td>NaN</td>\n",
       "      <td>16.816431</td>\n",
       "    </tr>\n",
       "    <tr>\n",
       "      <th>2</th>\n",
       "      <td>2004</td>\n",
       "      <td>NaN</td>\n",
       "      <td>NaN</td>\n",
       "      <td>NaN</td>\n",
       "      <td>10.968921</td>\n",
       "    </tr>\n",
       "    <tr>\n",
       "      <th>3</th>\n",
       "      <td>2005</td>\n",
       "      <td>NaN</td>\n",
       "      <td>60.000000</td>\n",
       "      <td>NaN</td>\n",
       "      <td>11.337868</td>\n",
       "    </tr>\n",
       "    <tr>\n",
       "      <th>4</th>\n",
       "      <td>2006</td>\n",
       "      <td>NaN</td>\n",
       "      <td>NaN</td>\n",
       "      <td>NaN</td>\n",
       "      <td>10.915493</td>\n",
       "    </tr>\n",
       "    <tr>\n",
       "      <th>5</th>\n",
       "      <td>2007</td>\n",
       "      <td>NaN</td>\n",
       "      <td>NaN</td>\n",
       "      <td>NaN</td>\n",
       "      <td>12.195122</td>\n",
       "    </tr>\n",
       "    <tr>\n",
       "      <th>6</th>\n",
       "      <td>2008</td>\n",
       "      <td>NaN</td>\n",
       "      <td>50.000000</td>\n",
       "      <td>NaN</td>\n",
       "      <td>17.695473</td>\n",
       "    </tr>\n",
       "    <tr>\n",
       "      <th>7</th>\n",
       "      <td>2009</td>\n",
       "      <td>NaN</td>\n",
       "      <td>NaN</td>\n",
       "      <td>NaN</td>\n",
       "      <td>16.981132</td>\n",
       "    </tr>\n",
       "    <tr>\n",
       "      <th>8</th>\n",
       "      <td>2010</td>\n",
       "      <td>NaN</td>\n",
       "      <td>NaN</td>\n",
       "      <td>NaN</td>\n",
       "      <td>22.049689</td>\n",
       "    </tr>\n",
       "    <tr>\n",
       "      <th>9</th>\n",
       "      <td>2011</td>\n",
       "      <td>NaN</td>\n",
       "      <td>28.571429</td>\n",
       "      <td>NaN</td>\n",
       "      <td>26.946108</td>\n",
       "    </tr>\n",
       "    <tr>\n",
       "      <th>10</th>\n",
       "      <td>2012</td>\n",
       "      <td>NaN</td>\n",
       "      <td>10.526316</td>\n",
       "      <td>NaN</td>\n",
       "      <td>19.083969</td>\n",
       "    </tr>\n",
       "    <tr>\n",
       "      <th>11</th>\n",
       "      <td>2013</td>\n",
       "      <td>50.000000</td>\n",
       "      <td>42.857143</td>\n",
       "      <td>NaN</td>\n",
       "      <td>23.575949</td>\n",
       "    </tr>\n",
       "    <tr>\n",
       "      <th>12</th>\n",
       "      <td>2014</td>\n",
       "      <td>25.000000</td>\n",
       "      <td>29.032258</td>\n",
       "      <td>NaN</td>\n",
       "      <td>14.941406</td>\n",
       "    </tr>\n",
       "    <tr>\n",
       "      <th>13</th>\n",
       "      <td>2015</td>\n",
       "      <td>75.000000</td>\n",
       "      <td>31.818182</td>\n",
       "      <td>NaN</td>\n",
       "      <td>21.509434</td>\n",
       "    </tr>\n",
       "    <tr>\n",
       "      <th>14</th>\n",
       "      <td>2016</td>\n",
       "      <td>25.000000</td>\n",
       "      <td>14.583333</td>\n",
       "      <td>NaN</td>\n",
       "      <td>18.011811</td>\n",
       "    </tr>\n",
       "    <tr>\n",
       "      <th>15</th>\n",
       "      <td>2017</td>\n",
       "      <td>11.111111</td>\n",
       "      <td>18.918919</td>\n",
       "      <td>NaN</td>\n",
       "      <td>18.175439</td>\n",
       "    </tr>\n",
       "    <tr>\n",
       "      <th>16</th>\n",
       "      <td>2018</td>\n",
       "      <td>27.272727</td>\n",
       "      <td>12.820513</td>\n",
       "      <td>NaN</td>\n",
       "      <td>19.077901</td>\n",
       "    </tr>\n",
       "    <tr>\n",
       "      <th>17</th>\n",
       "      <td>2019</td>\n",
       "      <td>14.285714</td>\n",
       "      <td>28.947368</td>\n",
       "      <td>60.0</td>\n",
       "      <td>17.819706</td>\n",
       "    </tr>\n",
       "    <tr>\n",
       "      <th>18</th>\n",
       "      <td>2020</td>\n",
       "      <td>18.181818</td>\n",
       "      <td>33.333333</td>\n",
       "      <td>100.0</td>\n",
       "      <td>24.292101</td>\n",
       "    </tr>\n",
       "    <tr>\n",
       "      <th>19</th>\n",
       "      <td>2021</td>\n",
       "      <td>100.000000</td>\n",
       "      <td>NaN</td>\n",
       "      <td>NaN</td>\n",
       "      <td>40.000000</td>\n",
       "    </tr>\n",
       "  </tbody>\n",
       "</table>\n",
       "</div>"
      ],
      "text/plain": [
       "   decision_year    Bisexual  Homosexual  Transgender  overall_percentage\n",
       "0           2002         NaN   25.000000          NaN           12.616822\n",
       "1           2003         NaN   50.000000          NaN           16.816431\n",
       "2           2004         NaN         NaN          NaN           10.968921\n",
       "3           2005         NaN   60.000000          NaN           11.337868\n",
       "4           2006         NaN         NaN          NaN           10.915493\n",
       "5           2007         NaN         NaN          NaN           12.195122\n",
       "6           2008         NaN   50.000000          NaN           17.695473\n",
       "7           2009         NaN         NaN          NaN           16.981132\n",
       "8           2010         NaN         NaN          NaN           22.049689\n",
       "9           2011         NaN   28.571429          NaN           26.946108\n",
       "10          2012         NaN   10.526316          NaN           19.083969\n",
       "11          2013   50.000000   42.857143          NaN           23.575949\n",
       "12          2014   25.000000   29.032258          NaN           14.941406\n",
       "13          2015   75.000000   31.818182          NaN           21.509434\n",
       "14          2016   25.000000   14.583333          NaN           18.011811\n",
       "15          2017   11.111111   18.918919          NaN           18.175439\n",
       "16          2018   27.272727   12.820513          NaN           19.077901\n",
       "17          2019   14.285714   28.947368         60.0           17.819706\n",
       "18          2020   18.181818   33.333333        100.0           24.292101\n",
       "19          2021  100.000000         NaN          NaN           40.000000"
      ]
     },
     "execution_count": 84,
     "metadata": {},
     "output_type": "execute_result"
    }
   ],
   "source": [
    "# Merge the percentages from df and df2\n",
    "combined_df = pd.merge(df_percentage_by_sogie, overall_percentage_df2_df, on='decision_year', how='left')\n",
    "combined_df\n"
   ]
  },
  {
   "cell_type": "code",
   "execution_count": 89,
   "id": "5fe7ce23",
   "metadata": {},
   "outputs": [
    {
     "data": {
      "image/png": "[encoded data removed]",
      "text/plain": [
       "<Figure size 700x600 with 3 Axes>"
      ]
     },
     "metadata": {},
     "output_type": "display_data"
    }
   ],
   "source": [
    "\n",
    "# Ensure 'decision_year' is in integer format\n",
    "combined_df['decision_year'] = combined_df['decision_year'].astype(str)\n",
    "\n",
    "# Define colors\n",
    "sogie_color = 'tab:green'\n",
    "overall_color = 'lightsteelblue'\n",
    "\n",
    "# Create subplots\n",
    "fig, axes = plt.subplots(3, 1, figsize=(7, 6), sharex=True)\n",
    "\n",
    "# Define sogie categories for each subplot\n",
    "sogie_categories = ['Homosexual', 'Bisexual', 'Transgender']\n",
    "\n",
    "# Loop through each sogie category and create a subplot\n",
    "for i, sogie in enumerate(sogie_categories):\n",
    "    ax = axes[i]\n",
    "    \n",
    "    # Plot the sogie percentage line\n",
    "    ax.plot(combined_df['decision_year'], combined_df[sogie], color=sogie_color, label=f'{sogie.capitalize()} Percentage', marker='x')    \n",
    "    # Plot the overall percentage line\n",
    "    ax.plot(combined_df['decision_year'], combined_df['overall_percentage'], color=overall_color, linestyle='--', label='Overall Percentage')\n",
    "    \n",
    "    # Set titles and labels\n",
    "    ax.set_title(f'{sogie.capitalize()} claimants')\n",
    "    ax.set_xlabel('Decision Year')\n",
    "    ax.set_ylabel('Rejection reversed')\n",
    "    ax.yaxis.grid(color='lightgrey', linestyle='dashed')\n",
    "    ax.set_facecolor('#F2F2F2')\n",
    "    ax.legend(loc='upper left')\n",
    "    \n",
    "    ax.set_ylim(0, 100)\n",
    "\n",
    "# Set x-ticks to be the years\n",
    "axes[-1].set_xticks(combined_df['decision_year'])\n",
    "axes[-1].set_xticklabels(combined_df['decision_year'], rotation=45)\n",
    "\n",
    "# Adjust layout and show plot\n",
    "plt.tight_layout()\n",
    "plt.savefig('rejection_overturned_comparison.png', dpi=600)\n",
    "plt.show()\n"
   ]
  },
  {
   "cell_type": "code",
   "execution_count": 63,
   "id": "23256977",
   "metadata": {},
   "outputs": [
    {
     "data": {
      "text/html": [
       "<div>\n",
       "<style scoped>\n",
       "    .dataframe tbody tr th:only-of-type {\n",
       "        vertical-align: middle;\n",
       "    }\n",
       "\n",
       "    .dataframe tbody tr th {\n",
       "        vertical-align: top;\n",
       "    }\n",
       "\n",
       "    .dataframe thead th {\n",
       "        text-align: right;\n",
       "    }\n",
       "</style>\n",
       "<table border=\"1\" class=\"dataframe\">\n",
       "  <thead>\n",
       "    <tr style=\"text-align: right;\">\n",
       "      <th></th>\n",
       "      <th>decision_year</th>\n",
       "      <th>Bisexual</th>\n",
       "      <th>Homosexual</th>\n",
       "      <th>Transgender</th>\n",
       "      <th>overall_percentage</th>\n",
       "    </tr>\n",
       "  </thead>\n",
       "  <tbody>\n",
       "    <tr>\n",
       "      <th>0</th>\n",
       "      <td>2002</td>\n",
       "      <td>0.000000</td>\n",
       "      <td>25.000000</td>\n",
       "      <td>0.0</td>\n",
       "      <td>12.616822</td>\n",
       "    </tr>\n",
       "    <tr>\n",
       "      <th>1</th>\n",
       "      <td>2003</td>\n",
       "      <td>0.000000</td>\n",
       "      <td>50.000000</td>\n",
       "      <td>0.0</td>\n",
       "      <td>16.816431</td>\n",
       "    </tr>\n",
       "    <tr>\n",
       "      <th>2</th>\n",
       "      <td>2004</td>\n",
       "      <td>0.000000</td>\n",
       "      <td>0.000000</td>\n",
       "      <td>0.0</td>\n",
       "      <td>10.968921</td>\n",
       "    </tr>\n",
       "    <tr>\n",
       "      <th>3</th>\n",
       "      <td>2005</td>\n",
       "      <td>0.000000</td>\n",
       "      <td>60.000000</td>\n",
       "      <td>0.0</td>\n",
       "      <td>11.337868</td>\n",
       "    </tr>\n",
       "    <tr>\n",
       "      <th>4</th>\n",
       "      <td>2006</td>\n",
       "      <td>0.000000</td>\n",
       "      <td>0.000000</td>\n",
       "      <td>0.0</td>\n",
       "      <td>10.915493</td>\n",
       "    </tr>\n",
       "    <tr>\n",
       "      <th>5</th>\n",
       "      <td>2007</td>\n",
       "      <td>0.000000</td>\n",
       "      <td>0.000000</td>\n",
       "      <td>0.0</td>\n",
       "      <td>12.195122</td>\n",
       "    </tr>\n",
       "    <tr>\n",
       "      <th>6</th>\n",
       "      <td>2008</td>\n",
       "      <td>0.000000</td>\n",
       "      <td>50.000000</td>\n",
       "      <td>0.0</td>\n",
       "      <td>17.695473</td>\n",
       "    </tr>\n",
       "    <tr>\n",
       "      <th>7</th>\n",
       "      <td>2009</td>\n",
       "      <td>0.000000</td>\n",
       "      <td>0.000000</td>\n",
       "      <td>0.0</td>\n",
       "      <td>16.981132</td>\n",
       "    </tr>\n",
       "    <tr>\n",
       "      <th>8</th>\n",
       "      <td>2010</td>\n",
       "      <td>0.000000</td>\n",
       "      <td>0.000000</td>\n",
       "      <td>0.0</td>\n",
       "      <td>22.049689</td>\n",
       "    </tr>\n",
       "    <tr>\n",
       "      <th>9</th>\n",
       "      <td>2011</td>\n",
       "      <td>0.000000</td>\n",
       "      <td>28.571429</td>\n",
       "      <td>0.0</td>\n",
       "      <td>26.946108</td>\n",
       "    </tr>\n",
       "    <tr>\n",
       "      <th>10</th>\n",
       "      <td>2012</td>\n",
       "      <td>0.000000</td>\n",
       "      <td>10.526316</td>\n",
       "      <td>0.0</td>\n",
       "      <td>19.083969</td>\n",
       "    </tr>\n",
       "    <tr>\n",
       "      <th>11</th>\n",
       "      <td>2013</td>\n",
       "      <td>50.000000</td>\n",
       "      <td>42.857143</td>\n",
       "      <td>0.0</td>\n",
       "      <td>23.575949</td>\n",
       "    </tr>\n",
       "    <tr>\n",
       "      <th>12</th>\n",
       "      <td>2014</td>\n",
       "      <td>25.000000</td>\n",
       "      <td>29.032258</td>\n",
       "      <td>0.0</td>\n",
       "      <td>14.941406</td>\n",
       "    </tr>\n",
       "    <tr>\n",
       "      <th>13</th>\n",
       "      <td>2015</td>\n",
       "      <td>75.000000</td>\n",
       "      <td>31.818182</td>\n",
       "      <td>0.0</td>\n",
       "      <td>21.509434</td>\n",
       "    </tr>\n",
       "    <tr>\n",
       "      <th>14</th>\n",
       "      <td>2016</td>\n",
       "      <td>25.000000</td>\n",
       "      <td>14.583333</td>\n",
       "      <td>0.0</td>\n",
       "      <td>18.011811</td>\n",
       "    </tr>\n",
       "    <tr>\n",
       "      <th>15</th>\n",
       "      <td>2017</td>\n",
       "      <td>11.111111</td>\n",
       "      <td>18.918919</td>\n",
       "      <td>0.0</td>\n",
       "      <td>18.175439</td>\n",
       "    </tr>\n",
       "    <tr>\n",
       "      <th>16</th>\n",
       "      <td>2018</td>\n",
       "      <td>27.272727</td>\n",
       "      <td>12.820513</td>\n",
       "      <td>0.0</td>\n",
       "      <td>19.077901</td>\n",
       "    </tr>\n",
       "    <tr>\n",
       "      <th>17</th>\n",
       "      <td>2019</td>\n",
       "      <td>14.285714</td>\n",
       "      <td>28.947368</td>\n",
       "      <td>60.0</td>\n",
       "      <td>17.819706</td>\n",
       "    </tr>\n",
       "    <tr>\n",
       "      <th>18</th>\n",
       "      <td>2020</td>\n",
       "      <td>18.181818</td>\n",
       "      <td>33.333333</td>\n",
       "      <td>100.0</td>\n",
       "      <td>24.292101</td>\n",
       "    </tr>\n",
       "    <tr>\n",
       "      <th>19</th>\n",
       "      <td>2021</td>\n",
       "      <td>100.000000</td>\n",
       "      <td>0.000000</td>\n",
       "      <td>0.0</td>\n",
       "      <td>40.000000</td>\n",
       "    </tr>\n",
       "  </tbody>\n",
       "</table>\n",
       "</div>"
      ],
      "text/plain": [
       "   decision_year    Bisexual  Homosexual  Transgender  overall_percentage\n",
       "0           2002    0.000000   25.000000          0.0           12.616822\n",
       "1           2003    0.000000   50.000000          0.0           16.816431\n",
       "2           2004    0.000000    0.000000          0.0           10.968921\n",
       "3           2005    0.000000   60.000000          0.0           11.337868\n",
       "4           2006    0.000000    0.000000          0.0           10.915493\n",
       "5           2007    0.000000    0.000000          0.0           12.195122\n",
       "6           2008    0.000000   50.000000          0.0           17.695473\n",
       "7           2009    0.000000    0.000000          0.0           16.981132\n",
       "8           2010    0.000000    0.000000          0.0           22.049689\n",
       "9           2011    0.000000   28.571429          0.0           26.946108\n",
       "10          2012    0.000000   10.526316          0.0           19.083969\n",
       "11          2013   50.000000   42.857143          0.0           23.575949\n",
       "12          2014   25.000000   29.032258          0.0           14.941406\n",
       "13          2015   75.000000   31.818182          0.0           21.509434\n",
       "14          2016   25.000000   14.583333          0.0           18.011811\n",
       "15          2017   11.111111   18.918919          0.0           18.175439\n",
       "16          2018   27.272727   12.820513          0.0           19.077901\n",
       "17          2019   14.285714   28.947368         60.0           17.819706\n",
       "18          2020   18.181818   33.333333        100.0           24.292101\n",
       "19          2021  100.000000    0.000000          0.0           40.000000"
      ]
     },
     "execution_count": 63,
     "metadata": {},
     "output_type": "execute_result"
    }
   ],
   "source": [
    "combined_df"
   ]
  },
  {
   "cell_type": "code",
   "execution_count": null,
   "id": "70706a87",
   "metadata": {},
   "outputs": [],
   "source": []
  }
 ],
 "metadata": {
  "kernelspec": {
   "display_name": "Python 3 (ipykernel)",
   "language": "python",
   "name": "python3"
  },
  "language_info": {
   "codemirror_mode": {
    "name": "ipython",
    "version": 3
   },
   "file_extension": ".py",
   "mimetype": "text/x-python",
   "name": "python",
   "nbconvert_exporter": "python",
   "pygments_lexer": "ipython3",
   "version": "3.10.9"
  }
 },
 "nbformat": 4,
 "nbformat_minor": 5
}
